{
 "cells": [
  {
   "cell_type": "markdown",
   "metadata": {},
   "source": [
    "# Name: Chang Liu"
   ]
  },
  {
   "cell_type": "code",
   "execution_count": 1,
   "metadata": {},
   "outputs": [],
   "source": [
    "import numpy as np\n",
    "import pandas as pd\n",
    "import random as r\n",
    "from sklearn.model_selection import train_test_split"
   ]
  },
  {
   "cell_type": "code",
   "execution_count": 2,
   "metadata": {},
   "outputs": [],
   "source": [
    "df = pd.read_csv(\"titanic.csv\")"
   ]
  },
  {
   "cell_type": "code",
   "execution_count": 3,
   "metadata": {},
   "outputs": [],
   "source": [
    "df = df.drop([\"Name\"], axis=1) "
   ]
  },
  {
   "cell_type": "code",
   "execution_count": 4,
   "metadata": {},
   "outputs": [],
   "source": [
    "df = pd.get_dummies(df, drop_first = True)"
   ]
  },
  {
   "cell_type": "code",
   "execution_count": 5,
   "metadata": {},
   "outputs": [],
   "source": [
    "df = df.rename(columns={\"Sex_male\": \"Sex\"})"
   ]
  },
  {
   "cell_type": "code",
   "execution_count": 6,
   "metadata": {},
   "outputs": [
    {
     "data": {
      "text/html": [
       "<div>\n",
       "<style scoped>\n",
       "    .dataframe tbody tr th:only-of-type {\n",
       "        vertical-align: middle;\n",
       "    }\n",
       "\n",
       "    .dataframe tbody tr th {\n",
       "        vertical-align: top;\n",
       "    }\n",
       "\n",
       "    .dataframe thead th {\n",
       "        text-align: right;\n",
       "    }\n",
       "</style>\n",
       "<table border=\"1\" class=\"dataframe\">\n",
       "  <thead>\n",
       "    <tr style=\"text-align: right;\">\n",
       "      <th></th>\n",
       "      <th>Survived</th>\n",
       "      <th>Pclass</th>\n",
       "      <th>Age</th>\n",
       "      <th>Siblings/Spouses Aboard</th>\n",
       "      <th>Parents/Children Aboard</th>\n",
       "      <th>Fare</th>\n",
       "      <th>Sex</th>\n",
       "    </tr>\n",
       "  </thead>\n",
       "  <tbody>\n",
       "    <tr>\n",
       "      <th>0</th>\n",
       "      <td>0</td>\n",
       "      <td>3</td>\n",
       "      <td>22.0</td>\n",
       "      <td>1</td>\n",
       "      <td>0</td>\n",
       "      <td>7.2500</td>\n",
       "      <td>1</td>\n",
       "    </tr>\n",
       "    <tr>\n",
       "      <th>1</th>\n",
       "      <td>1</td>\n",
       "      <td>1</td>\n",
       "      <td>38.0</td>\n",
       "      <td>1</td>\n",
       "      <td>0</td>\n",
       "      <td>71.2833</td>\n",
       "      <td>0</td>\n",
       "    </tr>\n",
       "    <tr>\n",
       "      <th>2</th>\n",
       "      <td>1</td>\n",
       "      <td>3</td>\n",
       "      <td>26.0</td>\n",
       "      <td>0</td>\n",
       "      <td>0</td>\n",
       "      <td>7.9250</td>\n",
       "      <td>0</td>\n",
       "    </tr>\n",
       "    <tr>\n",
       "      <th>3</th>\n",
       "      <td>1</td>\n",
       "      <td>1</td>\n",
       "      <td>35.0</td>\n",
       "      <td>1</td>\n",
       "      <td>0</td>\n",
       "      <td>53.1000</td>\n",
       "      <td>0</td>\n",
       "    </tr>\n",
       "    <tr>\n",
       "      <th>4</th>\n",
       "      <td>0</td>\n",
       "      <td>3</td>\n",
       "      <td>35.0</td>\n",
       "      <td>0</td>\n",
       "      <td>0</td>\n",
       "      <td>8.0500</td>\n",
       "      <td>1</td>\n",
       "    </tr>\n",
       "    <tr>\n",
       "      <th>...</th>\n",
       "      <td>...</td>\n",
       "      <td>...</td>\n",
       "      <td>...</td>\n",
       "      <td>...</td>\n",
       "      <td>...</td>\n",
       "      <td>...</td>\n",
       "      <td>...</td>\n",
       "    </tr>\n",
       "    <tr>\n",
       "      <th>882</th>\n",
       "      <td>0</td>\n",
       "      <td>2</td>\n",
       "      <td>27.0</td>\n",
       "      <td>0</td>\n",
       "      <td>0</td>\n",
       "      <td>13.0000</td>\n",
       "      <td>1</td>\n",
       "    </tr>\n",
       "    <tr>\n",
       "      <th>883</th>\n",
       "      <td>1</td>\n",
       "      <td>1</td>\n",
       "      <td>19.0</td>\n",
       "      <td>0</td>\n",
       "      <td>0</td>\n",
       "      <td>30.0000</td>\n",
       "      <td>0</td>\n",
       "    </tr>\n",
       "    <tr>\n",
       "      <th>884</th>\n",
       "      <td>0</td>\n",
       "      <td>3</td>\n",
       "      <td>7.0</td>\n",
       "      <td>1</td>\n",
       "      <td>2</td>\n",
       "      <td>23.4500</td>\n",
       "      <td>0</td>\n",
       "    </tr>\n",
       "    <tr>\n",
       "      <th>885</th>\n",
       "      <td>1</td>\n",
       "      <td>1</td>\n",
       "      <td>26.0</td>\n",
       "      <td>0</td>\n",
       "      <td>0</td>\n",
       "      <td>30.0000</td>\n",
       "      <td>1</td>\n",
       "    </tr>\n",
       "    <tr>\n",
       "      <th>886</th>\n",
       "      <td>0</td>\n",
       "      <td>3</td>\n",
       "      <td>32.0</td>\n",
       "      <td>0</td>\n",
       "      <td>0</td>\n",
       "      <td>7.7500</td>\n",
       "      <td>1</td>\n",
       "    </tr>\n",
       "  </tbody>\n",
       "</table>\n",
       "<p>887 rows × 7 columns</p>\n",
       "</div>"
      ],
      "text/plain": [
       "     Survived  Pclass   Age  Siblings/Spouses Aboard  Parents/Children Aboard  \\\n",
       "0           0       3  22.0                        1                        0   \n",
       "1           1       1  38.0                        1                        0   \n",
       "2           1       3  26.0                        0                        0   \n",
       "3           1       1  35.0                        1                        0   \n",
       "4           0       3  35.0                        0                        0   \n",
       "..        ...     ...   ...                      ...                      ...   \n",
       "882         0       2  27.0                        0                        0   \n",
       "883         1       1  19.0                        0                        0   \n",
       "884         0       3   7.0                        1                        2   \n",
       "885         1       1  26.0                        0                        0   \n",
       "886         0       3  32.0                        0                        0   \n",
       "\n",
       "        Fare  Sex  \n",
       "0     7.2500    1  \n",
       "1    71.2833    0  \n",
       "2     7.9250    0  \n",
       "3    53.1000    0  \n",
       "4     8.0500    1  \n",
       "..       ...  ...  \n",
       "882  13.0000    1  \n",
       "883  30.0000    0  \n",
       "884  23.4500    0  \n",
       "885  30.0000    1  \n",
       "886   7.7500    1  \n",
       "\n",
       "[887 rows x 7 columns]"
      ]
     },
     "execution_count": 6,
     "metadata": {},
     "output_type": "execute_result"
    }
   ],
   "source": [
    "df"
   ]
  },
  {
   "cell_type": "markdown",
   "metadata": {},
   "source": [
    "### Exhaustive Model"
   ]
  },
  {
   "cell_type": "code",
   "execution_count": 40,
   "metadata": {},
   "outputs": [],
   "source": [
    "X_train, X_test, y_train, y_test = train_test_split(df[['Pclass','Age','Siblings/Spouses Aboard','Parents/Children Aboard','Fare','Sex']], df['Survived'], test_size=0.2, random_state=62)\n",
    "\n",
    "# random_state = 44, random seed will generate the same sequences from the random generater."
   ]
  },
  {
   "cell_type": "code",
   "execution_count": 41,
   "metadata": {},
   "outputs": [
    {
     "data": {
      "text/plain": [
       "(     Pclass   Age  Siblings/Spouses Aboard  Parents/Children Aboard      Fare  \\\n",
       " 284       3  30.0                        0                        0    9.5000   \n",
       " 275       2  21.0                        0                        0    0.0000   \n",
       " 351       3  25.0                        1                        0   17.8000   \n",
       " 312       2  43.0                        1                        1   26.2500   \n",
       " 116       2  29.0                        1                        0   21.0000   \n",
       " ..      ...   ...                      ...                      ...       ...   \n",
       " 267       1  35.0                        0                        0  135.6333   \n",
       " 115       3  70.5                        0                        0    7.7500   \n",
       " 593       2  31.0                        0                        0   33.0000   \n",
       " 24        3   8.0                        3                        1   21.0750   \n",
       " 530       3  24.0                        0                        2   22.3583   \n",
       " \n",
       "      Sex  \n",
       " 284    1  \n",
       " 275    1  \n",
       " 351    1  \n",
       " 312    1  \n",
       " 116    1  \n",
       " ..   ...  \n",
       " 267    0  \n",
       " 115    1  \n",
       " 593    0  \n",
       " 24     0  \n",
       " 530    0  \n",
       " \n",
       " [709 rows x 6 columns],\n",
       " 284    1\n",
       " 275    0\n",
       " 351    0\n",
       " 312    0\n",
       " 116    0\n",
       "       ..\n",
       " 267    1\n",
       " 115    0\n",
       " 593    1\n",
       " 24     0\n",
       " 530    1\n",
       " Name: Survived, Length: 709, dtype: int64)"
      ]
     },
     "execution_count": 41,
     "metadata": {},
     "output_type": "execute_result"
    }
   ],
   "source": [
    "X_train, y_train"
   ]
  },
  {
   "cell_type": "code",
   "execution_count": 42,
   "metadata": {},
   "outputs": [
    {
     "data": {
      "text/plain": [
       "(     Pclass   Age  Siblings/Spouses Aboard  Parents/Children Aboard     Fare  \\\n",
       " 204       3   2.0                        0                        1  10.4625   \n",
       " 831       1  39.0                        1                        1  83.1583   \n",
       " 291       3  24.0                        0                        0   8.8500   \n",
       " 78        3  30.0                        0                        0  12.4750   \n",
       " 472       1  40.0                        0                        0  52.0000   \n",
       " ..      ...   ...                      ...                      ...      ...   \n",
       " 46        3  27.0                        0                        0   7.7500   \n",
       " 390       3  28.0                        2                        0   7.9250   \n",
       " 494       3  55.0                        0                        0  15.1000   \n",
       " 62        3   4.0                        3                        2  27.9000   \n",
       " 522       3  40.5                        0                        0   7.7500   \n",
       " \n",
       "      Sex  \n",
       " 204    0  \n",
       " 831    0  \n",
       " 291    0  \n",
       " 78     0  \n",
       " 472    1  \n",
       " ..   ...  \n",
       " 46     0  \n",
       " 390    1  \n",
       " 494    1  \n",
       " 62     1  \n",
       " 522    1  \n",
       " \n",
       " [178 rows x 6 columns],\n",
       " 204    0\n",
       " 831    1\n",
       " 291    0\n",
       " 78     1\n",
       " 472    0\n",
       "       ..\n",
       " 46     1\n",
       " 390    0\n",
       " 494    0\n",
       " 62     0\n",
       " 522    0\n",
       " Name: Survived, Length: 178, dtype: int64)"
      ]
     },
     "execution_count": 42,
     "metadata": {},
     "output_type": "execute_result"
    }
   ],
   "source": [
    "X_test, y_test"
   ]
  },
  {
   "cell_type": "code",
   "execution_count": 43,
   "metadata": {},
   "outputs": [],
   "source": [
    "from sklearn.linear_model import LogisticRegression #https://www.youtube.com/watch?v=VK6v9Ure8Lk"
   ]
  },
  {
   "cell_type": "code",
   "execution_count": 44,
   "metadata": {},
   "outputs": [],
   "source": [
    "import statsmodels.api as sm"
   ]
  },
  {
   "cell_type": "code",
   "execution_count": 45,
   "metadata": {},
   "outputs": [],
   "source": [
    "# Linear Reqression: Ordinary Least Squares, Weighted Least Squares, Generalized Least Squares\n",
    "# Logistic Regression: Maximum Likelihood\n",
    "# https://www.youtube.com/watch?v=yIYKR4sgzI8\n",
    "# logit, probit, "
   ]
  },
  {
   "cell_type": "code",
   "execution_count": 46,
   "metadata": {},
   "outputs": [],
   "source": [
    "logit_mod = sm.Logit(y_train, X_train)"
   ]
  },
  {
   "cell_type": "code",
   "execution_count": 47,
   "metadata": {},
   "outputs": [
    {
     "name": "stdout",
     "output_type": "stream",
     "text": [
      "Optimization terminated successfully.\n",
      "         Current function value: 0.498947\n",
      "         Iterations 6\n"
     ]
    }
   ],
   "source": [
    "logit_res = logit_mod.fit() "
   ]
  },
  {
   "cell_type": "code",
   "execution_count": 48,
   "metadata": {},
   "outputs": [
    {
     "name": "stdout",
     "output_type": "stream",
     "text": [
      "                           Logit Regression Results                           \n",
      "==============================================================================\n",
      "Dep. Variable:               Survived   No. Observations:                  709\n",
      "Model:                          Logit   Df Residuals:                      703\n",
      "Method:                           MLE   Df Model:                            5\n",
      "Date:                Sat, 20 Mar 2021   Pseudo R-squ.:                  0.2543\n",
      "Time:                        01:10:07   Log-Likelihood:                -353.75\n",
      "converged:                       True   LL-Null:                       -474.36\n",
      "Covariance Type:            nonrobust   LLR p-value:                 4.215e-50\n",
      "===========================================================================================\n",
      "                              coef    std err          z      P>|z|      [0.025      0.975]\n",
      "-------------------------------------------------------------------------------------------\n",
      "Pclass                      0.1302      0.077      1.697      0.090      -0.020       0.281\n",
      "Age                         0.0040      0.006      0.668      0.504      -0.008       0.016\n",
      "Siblings/Spouses Aboard    -0.2555      0.108     -2.362      0.018      -0.468      -0.043\n",
      "Parents/Children Aboard    -0.0829      0.127     -0.651      0.515      -0.332       0.167\n",
      "Fare                        0.0178      0.003      5.289      0.000       0.011       0.024\n",
      "Sex                        -2.2580      0.197    -11.455      0.000      -2.644      -1.872\n",
      "===========================================================================================\n"
     ]
    }
   ],
   "source": [
    "print(logit_res.summary())"
   ]
  },
  {
   "cell_type": "code",
   "execution_count": 49,
   "metadata": {},
   "outputs": [],
   "source": [
    "# A p-value is used in hypothesis testing to help you support or reject\n",
    "# the null hypothesis. The Smaller the p-value, the stronger the evidence\n",
    "# that you should reject the null hypothesis.\n",
    "# A p-value of 0.0254 is 2.54%. This means there is a 2.54% chance your\n",
    "# results could be random (i.e. happened by chance). On the other hand, \n",
    "# a large p-value of 0.9(90%) means your results have a 90% probability of\n",
    "# being completely random and not due to anything in your experiment. Therefore,\n",
    "# the smaller the p-value, the more important (\"significant\") your results."
   ]
  },
  {
   "cell_type": "code",
   "execution_count": 50,
   "metadata": {},
   "outputs": [],
   "source": [
    "# If a f-test shows a large p-value (0.244531) you would not reject the null.\n",
    "# So you could compare your f-value with your f-critical value. If the\n",
    "# f-critical value is smaller than the f-value, you should reject the null\n",
    "# hypothesis."
   ]
  },
  {
   "cell_type": "code",
   "execution_count": 51,
   "metadata": {},
   "outputs": [],
   "source": [
    "# p-value vs alpha level\n",
    "# You get an alpha level by subtracting your confidence level from 100%. \n",
    "# For example, if you want to be 98 percent confident in your research, \n",
    "# the alpha level would be 2% (100% – 98%)\n",
    "#  Compare that value to your chosen alpha level. For example, let’s say you \n",
    "# chose an alpha level of 5% (0.05). \n",
    "# If the results from the test give you:\n",
    "# \n",
    "#   A small p (≤ 0.05), reject the null hypothesis. This is strong evidence \n",
    "#   that the null hypothesis is invalid.\n",
    "#   A large p (> 0.05) means the alternate hypothesis is weak, so you do not \n",
    "#   reject the null. "
   ]
  },
  {
   "cell_type": "code",
   "execution_count": 52,
   "metadata": {},
   "outputs": [],
   "source": [
    "# What if I don't have an alpha level\n",
    "# \n",
    "#   If p > .10 → “not significant”\n",
    "#   If p ≤ .10 → “marginally significant”\n",
    "#   If p ≤ .05 → “significant”\n",
    "#   If p ≤ .01 → “highly significant.”"
   ]
  },
  {
   "cell_type": "code",
   "execution_count": 53,
   "metadata": {},
   "outputs": [],
   "source": [
    "LogReg = LogisticRegression()"
   ]
  },
  {
   "cell_type": "code",
   "execution_count": 54,
   "metadata": {},
   "outputs": [
    {
     "data": {
      "text/plain": [
       "LogisticRegression()"
      ]
     },
     "execution_count": 54,
     "metadata": {},
     "output_type": "execute_result"
    }
   ],
   "source": [
    "LogReg.fit(X_train, y_train)"
   ]
  },
  {
   "cell_type": "code",
   "execution_count": 55,
   "metadata": {},
   "outputs": [
    {
     "data": {
      "text/plain": [
       "0.797752808988764"
      ]
     },
     "execution_count": 55,
     "metadata": {},
     "output_type": "execute_result"
    }
   ],
   "source": [
    "LogReg.score(X_test, y_test)"
   ]
  },
  {
   "cell_type": "code",
   "execution_count": 56,
   "metadata": {},
   "outputs": [],
   "source": [
    "# Accuracy Score : https://www.youtube.com/watch?v=VK6v9Ure8Lk"
   ]
  },
  {
   "cell_type": "markdown",
   "metadata": {},
   "source": [
    "### Selective Model"
   ]
  },
  {
   "cell_type": "code",
   "execution_count": 57,
   "metadata": {},
   "outputs": [],
   "source": [
    "X_train, X_test, y_train, y_test = train_test_split(df[['Siblings/Spouses Aboard','Fare','Sex']], df['Survived'], test_size=0.2, random_state=44)\n"
   ]
  },
  {
   "cell_type": "code",
   "execution_count": 58,
   "metadata": {},
   "outputs": [
    {
     "data": {
      "text/plain": [
       "(     Siblings/Spouses Aboard      Fare  Sex\n",
       " 432                        1  120.0000    0\n",
       " 236                        0   26.2500    0\n",
       " 729                        0   13.0000    1\n",
       " 629                        0   30.5000    1\n",
       " 83                         0   10.5000    0\n",
       " ..                       ...       ...  ...\n",
       " 571                        0    8.0500    1\n",
       " 173                        0   30.6958    1\n",
       " 753                        0   11.5000    1\n",
       " 419                        0    7.8750    1\n",
       " 788                        8   69.5500    0\n",
       " \n",
       " [709 rows x 3 columns],\n",
       " 432    1\n",
       " 236    1\n",
       " 729    0\n",
       " 629    1\n",
       " 83     1\n",
       "       ..\n",
       " 571    0\n",
       " 173    0\n",
       " 753    0\n",
       " 419    0\n",
       " 788    0\n",
       " Name: Survived, Length: 709, dtype: int64)"
      ]
     },
     "execution_count": 58,
     "metadata": {},
     "output_type": "execute_result"
    }
   ],
   "source": [
    "X_train, y_train"
   ]
  },
  {
   "cell_type": "code",
   "execution_count": 59,
   "metadata": {},
   "outputs": [],
   "source": [
    "logit_mod = sm.Logit(y_train, X_train)"
   ]
  },
  {
   "cell_type": "code",
   "execution_count": 60,
   "metadata": {},
   "outputs": [
    {
     "name": "stdout",
     "output_type": "stream",
     "text": [
      "Optimization terminated successfully.\n",
      "         Current function value: 0.495226\n",
      "         Iterations 6\n"
     ]
    }
   ],
   "source": [
    "logit_res = logit_mod.fit() "
   ]
  },
  {
   "cell_type": "code",
   "execution_count": 61,
   "metadata": {},
   "outputs": [
    {
     "name": "stdout",
     "output_type": "stream",
     "text": [
      "                           Logit Regression Results                           \n",
      "==============================================================================\n",
      "Dep. Variable:               Survived   No. Observations:                  709\n",
      "Model:                          Logit   Df Residuals:                      706\n",
      "Method:                           MLE   Df Model:                            2\n",
      "Date:                Sat, 20 Mar 2021   Pseudo R-squ.:                  0.2605\n",
      "Time:                        01:10:13   Log-Likelihood:                -351.12\n",
      "converged:                       True   LL-Null:                       -474.80\n",
      "Covariance Type:            nonrobust   LLR p-value:                 1.920e-54\n",
      "===========================================================================================\n",
      "                              coef    std err          z      P>|z|      [0.025      0.975]\n",
      "-------------------------------------------------------------------------------------------\n",
      "Siblings/Spouses Aboard    -0.2553      0.088     -2.898      0.004      -0.428      -0.083\n",
      "Fare                        0.0222      0.003      7.170      0.000       0.016       0.028\n",
      "Sex                        -1.9640      0.147    -13.321      0.000      -2.253      -1.675\n",
      "===========================================================================================\n"
     ]
    }
   ],
   "source": [
    "print(logit_res.summary())"
   ]
  },
  {
   "cell_type": "code",
   "execution_count": 62,
   "metadata": {},
   "outputs": [],
   "source": [
    "LogReg = LogisticRegression()"
   ]
  },
  {
   "cell_type": "code",
   "execution_count": 63,
   "metadata": {},
   "outputs": [
    {
     "data": {
      "text/plain": [
       "LogisticRegression()"
      ]
     },
     "execution_count": 63,
     "metadata": {},
     "output_type": "execute_result"
    }
   ],
   "source": [
    "LogReg.fit(X_train, y_train)"
   ]
  },
  {
   "cell_type": "code",
   "execution_count": 64,
   "metadata": {},
   "outputs": [
    {
     "data": {
      "text/plain": [
       "0.7696629213483146"
      ]
     },
     "execution_count": 64,
     "metadata": {},
     "output_type": "execute_result"
    }
   ],
   "source": [
    "LogReg.score(X_test, y_test)"
   ]
  },
  {
   "cell_type": "markdown",
   "metadata": {},
   "source": [
    "As we can see the accuracy score of Exhaustive Model is more than Selective Model."
   ]
  }
 ],
 "metadata": {
  "jupytext": {
   "cell_metadata_filter": "-all"
  },
  "kernelspec": {
   "display_name": "Python 3",
   "language": "python",
   "name": "python3"
  },
  "language_info": {
   "codemirror_mode": {
    "name": "ipython",
    "version": 3
   },
   "file_extension": ".py",
   "mimetype": "text/x-python",
   "name": "python",
   "nbconvert_exporter": "python",
   "pygments_lexer": "ipython3",
   "version": "3.8.3"
  }
 },
 "nbformat": 4,
 "nbformat_minor": 5
}
